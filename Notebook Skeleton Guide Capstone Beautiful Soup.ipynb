{
 "cells": [
  {
   "cell_type": "markdown",
   "metadata": {},
   "source": [
    "# Capstone Webscrapping using BeautifulSoup\n",
    "\n",
    "This notebook contains guidances & tasks on the data processing for the application\n",
    "\n",
    "## background\n",
    "\n",
    "Melakukan Web Scrapping untuk menganalisis pergerakan kurs US Dollar ke Rupiah dari bulan oktober  2022 - Maret 2023\n",
    "\n",
    "## Requesting the Data and Creating a BeautifulSoup\n",
    "\n",
    "Let's begin with requesting the web from the site with `get` method."
   ]
  },
  {
   "cell_type": "markdown",
   "metadata": {},
   "source": [
    "Melakukan request ke URL"
   ]
  },
  {
   "cell_type": "code",
   "execution_count": 1,
   "metadata": {
    "ExecuteTime": {
     "end_time": "2020-01-13T05:12:23.275508Z",
     "start_time": "2020-01-13T05:12:20.009898Z"
    }
   },
   "outputs": [],
   "source": [
    "import requests\n",
    "\n",
    "url_get = requests.get('https://www.exchange-rates.org/history/IDR/USD/T')"
   ]
  },
  {
   "cell_type": "markdown",
   "metadata": {},
   "source": [
    "Melihat hasil html yang diambil dari request url"
   ]
  },
  {
   "cell_type": "code",
   "execution_count": 2,
   "metadata": {
    "ExecuteTime": {
     "end_time": "2020-01-13T05:12:23.290648Z",
     "start_time": "2020-01-13T05:12:23.277650Z"
    }
   },
   "outputs": [
    {
     "data": {
      "text/plain": [
       "b'!DOCTYPE html>\\r\\n<!--[if lt IE 9]>\\r\\n<html class=\"no-js ie8 oldie\" lang=\"en\" xml:lang=\\'en\\'>\\r\\n<![endif]-->\\r\\n<!--[if gt IE 8]><!--><html class=\"no-js\" lang=\"en\" xml:lang=\\'en\\'><!--<![endif]-->\\r\\n<head>\\r\\n<title>USD to IDR exchange rate history</title>\\r\\n<meta http-equiv=\"X-UA-Compatible\" content=\"IE=edge\">\\r\\n<meta name=\"viewport\" content=\"width=device-width, initial-scale=1, maximum-scale=5\">\\r\\n<meta charset=\"utf-8\" /><meta http-equiv=\"Content-Type\" content=\"text/html; charset=utf-8\" />\\r\\n<base href=\"http'"
      ]
     },
     "execution_count": 2,
     "metadata": {},
     "output_type": "execute_result"
    }
   ],
   "source": [
    "url_get.content[1:500]"
   ]
  },
  {
   "cell_type": "markdown",
   "metadata": {},
   "source": [
    "Memangil Library BeautifulSoup untuk merapihkan hasil HTML di atas dan Melakukan Parsing HTML menggunakan BeautifulSoup"
   ]
  },
  {
   "cell_type": "code",
   "execution_count": 3,
   "metadata": {
    "ExecuteTime": {
     "end_time": "2020-01-13T05:12:23.808122Z",
     "start_time": "2020-01-13T05:12:23.292610Z"
    }
   },
   "outputs": [],
   "source": [
    "from bs4 import BeautifulSoup \n",
    "\n",
    "soup = BeautifulSoup(url_get.content,\"html.parser\")"
   ]
  },
  {
   "cell_type": "markdown",
   "metadata": {},
   "source": [
    "Memanggil Tag HTML yang sudah dipercantik dengan Library BeautifulSoup"
   ]
  },
  {
   "cell_type": "code",
   "execution_count": 4,
   "metadata": {},
   "outputs": [
    {
     "name": "stdout",
     "output_type": "stream",
     "text": [
      "<!DOCTYPE html>\n",
      "<!--[if lt IE 9]>\r\n",
      "<html class=\"no-js ie8 oldie\" lang=\"en\" xml:lang='en'>\r\n",
      "<![endif]-->\n",
      "<!--[if gt IE 8]><!-->\n",
      "<html class=\"no-js\" lang=\"en\" xml:lang=\"en\">\n",
      " <!--<![endif]-->\n",
      " <head>\n",
      "  <title>\n",
      "   USD to IDR exchange rate history\n",
      "  </title>\n",
      "  <meta content=\"IE=edge\" http-equiv=\"X-UA-Compatible\"/>\n",
      "  <meta content=\"width=device-width, initial-scale=1, maximum-scale=5\" name=\"viewport\"/>\n",
      "  <meta charset=\"utf-8\">\n",
      "   <meta content=\"text/html; charset=utf-8\" http-equiv=\"Content-Type\">\n",
      "   \n"
     ]
    }
   ],
   "source": [
    "print(soup.prettify()[:500])"
   ]
  },
  {
   "cell_type": "markdown",
   "metadata": {},
   "source": [
    "## Finding the right key to scrap the data & Extracting the right information"
   ]
  },
  {
   "cell_type": "markdown",
   "metadata": {},
   "source": [
    "Find di sini digunakan untuk mencari element yang diinginkan, karena disini kita ingin mengambil data dari table, maka kita cari tag yang merangkap semua table.\n",
    "Kita cukup memangil tag tbody untuk mencari data yang kita inginkan.\n"
   ]
  },
  {
   "cell_type": "code",
   "execution_count": 5,
   "metadata": {
    "ExecuteTime": {
     "end_time": "2020-01-13T05:12:23.878904Z",
     "start_time": "2020-01-13T05:12:23.854974Z"
    }
   },
   "outputs": [
    {
     "name": "stdout",
     "output_type": "stream",
     "text": [
      "tbody>\n",
      " <tr>\n",
      "  <td>\n",
      "   <a class=\"w\" href=\"/exchange-rate-history/usd-idr-2023-04-12\">\n",
      "    April 12, 2023\n",
      "   </a>\n",
      "   <a class=\"n\" href=\"/exchange-rate-history/usd-idr-2023-04-12\">\n",
      "    2023-4-12\n",
      "   </a>\n",
      "  </td>\n",
      "  <td>\n",
      "   <span class=\"w\">\n",
      "    <span class=\"nowrap\">\n",
      "     <span class=\"currencySymbol\">\n",
      "      $\n",
      "     </span>\n",
      "     1 =\n",
      "    </span>\n",
      "    <span class=\"nowrap\">\n",
      "     <span class=\"currencySymbol\">\n",
      "      Rp\n",
      "     </span>\n",
      "     14,835\n",
      "    </span>\n",
      "   </span>\n",
      "   <span class=\"n\">\n",
      "    <span class=\"nowra\n"
     ]
    }
   ],
   "source": [
    "table = soup.find('tbody')\n",
    "print(table.prettify()[1:500])\n"
   ]
  },
  {
   "cell_type": "markdown",
   "metadata": {},
   "source": [
    "Mencari row length."
   ]
  },
  {
   "cell_type": "code",
   "execution_count": 6,
   "metadata": {},
   "outputs": [
    {
     "data": {
      "text/plain": [
       "129"
      ]
     },
     "execution_count": 6,
     "metadata": {},
     "output_type": "execute_result"
    }
   ],
   "source": [
    "tgl=table.find_all('a',attrs={'class':'n'})\n",
    "row_length = len(tgl)\n",
    "row_length"
   ]
  },
  {
   "cell_type": "markdown",
   "metadata": {},
   "source": [
    "Melakukan pengambilan data "
   ]
  },
  {
   "cell_type": "markdown",
   "metadata": {},
   "source": [
    "Disini digunakan perulangan (looping) untuk menarik data, jadi looping digunakan untuk mengulangi sebuah proses secara otomatis untuk mengambil data dari halaman web yang sama."
   ]
  },
  {
   "cell_type": "code",
   "execution_count": 7,
   "metadata": {
    "ExecuteTime": {
     "end_time": "2020-01-13T05:12:24.008256Z",
     "start_time": "2020-01-13T05:12:23.980358Z"
    }
   },
   "outputs": [
    {
     "data": {
      "text/plain": [
       "[('2023-4-12', '14835'),\n",
       " ('2023-4-11', '14915'),\n",
       " ('2023-4-10', '14950'),\n",
       " ('2023-4-7', '14941'),\n",
       " ('2023-4-6', '14931'),\n",
       " ('2023-4-5', '14960'),\n",
       " ('2023-4-4', '14957'),\n",
       " ('2023-4-3', '14922'),\n",
       " ('2023-3-31', '14969'),\n",
       " ('2023-3-30', '15024'),\n",
       " ('2023-3-29', '15034'),\n",
       " ('2023-3-28', '15060'),\n",
       " ('2023-3-27', '15107'),\n",
       " ('2023-3-24', '15165'),\n",
       " ('2023-3-23', '15085'),\n",
       " ('2023-3-22', '15253'),\n",
       " ('2023-3-21', '15301'),\n",
       " ('2023-3-20', '15343'),\n",
       " ('2023-3-17', '15375'),\n",
       " ('2023-3-16', '15429'),\n",
       " ('2023-3-15', '15459'),\n",
       " ('2023-3-14', '15380'),\n",
       " ('2023-3-13', '15416'),\n",
       " ('2023-3-10', '15503'),\n",
       " ('2023-3-9', '15495'),\n",
       " ('2023-3-8', '15449'),\n",
       " ('2023-3-7', '15429'),\n",
       " ('2023-3-6', '15354'),\n",
       " ('2023-3-3', '15278'),\n",
       " ('2023-3-2', '15322'),\n",
       " ('2023-3-1', '15249'),\n",
       " ('2023-2-28', '15241'),\n",
       " ('2023-2-27', '15216'),\n",
       " ('2023-2-24', '15265'),\n",
       " ('2023-2-23', '15211'),\n",
       " ('2023-2-22', '15197'),\n",
       " ('2023-2-21', '15235'),\n",
       " ('2023-2-20', '15168'),\n",
       " ('2023-2-17', '15166'),\n",
       " ('2023-2-16', '15144'),\n",
       " ('2023-2-15', '15205'),\n",
       " ('2023-2-14', '15186'),\n",
       " ('2023-2-13', '15216'),\n",
       " ('2023-2-10', '15188'),\n",
       " ('2023-2-9', '15147'),\n",
       " ('2023-2-8', '15133'),\n",
       " ('2023-2-7', '15154'),\n",
       " ('2023-2-6', '15198'),\n",
       " ('2023-2-3', '15095'),\n",
       " ('2023-2-2', '14907'),\n",
       " ('2023-2-1', '14896'),\n",
       " ('2023-1-31', '15002'),\n",
       " ('2023-1-30', '15013'),\n",
       " ('2023-1-27', '14973'),\n",
       " ('2023-1-26', '14955'),\n",
       " ('2023-1-25', '14940'),\n",
       " ('2023-1-24', '14956'),\n",
       " ('2023-1-23', '15026'),\n",
       " ('2023-1-20', '15063'),\n",
       " ('2023-1-19', '15154'),\n",
       " ('2023-1-18', '15138'),\n",
       " ('2023-1-17', '15180'),\n",
       " ('2023-1-16', '15126'),\n",
       " ('2023-1-13', '15115'),\n",
       " ('2023-1-12', '15206'),\n",
       " ('2023-1-11', '15432'),\n",
       " ('2023-1-10', '15536'),\n",
       " ('2023-1-9', '15596'),\n",
       " ('2023-1-6', '15607'),\n",
       " ('2023-1-5', '15635'),\n",
       " ('2023-1-4', '15582'),\n",
       " ('2023-1-3', '15594'),\n",
       " ('2023-1-2', '15554'),\n",
       " ('2022-12-30', '15534'),\n",
       " ('2022-12-29', '15627'),\n",
       " ('2022-12-28', '15789'),\n",
       " ('2022-12-27', '15620'),\n",
       " ('2022-12-26', '15621'),\n",
       " ('2022-12-23', '15582'),\n",
       " ('2022-12-22', '15574'),\n",
       " ('2022-12-21', '15540'),\n",
       " ('2022-12-20', '15564'),\n",
       " ('2022-12-19', '15568'),\n",
       " ('2022-12-16', '15616'),\n",
       " ('2022-12-15', '15629'),\n",
       " ('2022-12-14', '15543'),\n",
       " ('2022-12-13', '15560'),\n",
       " ('2022-12-12', '15676'),\n",
       " ('2022-12-9', '15604'),\n",
       " ('2022-12-8', '15594'),\n",
       " ('2022-12-7', '15612'),\n",
       " ('2022-12-6', '15625'),\n",
       " ('2022-12-5', '15520'),\n",
       " ('2022-12-2', '15376'),\n",
       " ('2022-12-1', '15389'),\n",
       " ('2022-11-30', '15633'),\n",
       " ('2022-11-29', '15734'),\n",
       " ('2022-11-28', '15743'),\n",
       " ('2022-11-25', '15693'),\n",
       " ('2022-11-24', '15647'),\n",
       " ('2022-11-23', '15626'),\n",
       " ('2022-11-22', '15664'),\n",
       " ('2022-11-21', '15741'),\n",
       " ('2022-11-18', '15641'),\n",
       " ('2022-11-17', '15714'),\n",
       " ('2022-11-16', '15639'),\n",
       " ('2022-11-15', '15557'),\n",
       " ('2022-11-14', '15554'),\n",
       " ('2022-11-11', '15474'),\n",
       " ('2022-11-10', '15520'),\n",
       " ('2022-11-9', '15692'),\n",
       " ('2022-11-8', '15638'),\n",
       " ('2022-11-7', '15685'),\n",
       " ('2022-11-4', '15615'),\n",
       " ('2022-11-3', '15790'),\n",
       " ('2022-11-2', '15685'),\n",
       " ('2022-11-1', '15674'),\n",
       " ('2022-10-31', '15624'),\n",
       " ('2022-10-28', '15557'),\n",
       " ('2022-10-27', '15560'),\n",
       " ('2022-10-26', '15503'),\n",
       " ('2022-10-25', '15533'),\n",
       " ('2022-10-24', '15598'),\n",
       " ('2022-10-21', '15537'),\n",
       " ('2022-10-20', '15562'),\n",
       " ('2022-10-19', '15587'),\n",
       " ('2022-10-18', '15474'),\n",
       " ('2022-10-17', '15441'),\n",
       " ('2022-10-14', '15472')]"
      ]
     },
     "execution_count": 7,
     "metadata": {},
     "output_type": "execute_result"
    }
   ],
   "source": [
    "temp = [] #initiating a tuple\n",
    "\n",
    "for i in range(0, row_length):\n",
    "\n",
    "    #scrapping process\n",
    "    tgl=table.find_all('a',attrs={'class':'n'})[i].text\n",
    "    harga=table.find_all('span',attrs={'class':'w'})[i].text\n",
    "    \n",
    "    temp.append((tgl,harga.replace('$1 = Rp', '').replace(',', '').strip())) \n",
    "    \n",
    "temp "
   ]
  },
  {
   "cell_type": "markdown",
   "metadata": {},
   "source": [
    "## Creating data frame & Data wrangling"
   ]
  },
  {
   "cell_type": "markdown",
   "metadata": {},
   "source": [
    "Memasukkan array kedalam kerangka data"
   ]
  },
  {
   "cell_type": "markdown",
   "metadata": {},
   "source": [
    "Mengimport pandas dan membuat data frame dari data yang sudah di tarik dari web"
   ]
  },
  {
   "cell_type": "code",
   "execution_count": 8,
   "metadata": {
    "ExecuteTime": {
     "end_time": "2020-01-13T05:12:41.517372Z",
     "start_time": "2020-01-13T05:12:29.130015Z"
    }
   },
   "outputs": [
    {
     "data": {
      "text/html": [
       "<div>\n",
       "<style scoped>\n",
       "    .dataframe tbody tr th:only-of-type {\n",
       "        vertical-align: middle;\n",
       "    }\n",
       "\n",
       "    .dataframe tbody tr th {\n",
       "        vertical-align: top;\n",
       "    }\n",
       "\n",
       "    .dataframe thead th {\n",
       "        text-align: right;\n",
       "    }\n",
       "</style>\n",
       "<table border=\"1\" class=\"dataframe\">\n",
       "  <thead>\n",
       "    <tr style=\"text-align: right;\">\n",
       "      <th></th>\n",
       "      <th>tgl</th>\n",
       "      <th>harga</th>\n",
       "    </tr>\n",
       "  </thead>\n",
       "  <tbody>\n",
       "    <tr>\n",
       "      <th>0</th>\n",
       "      <td>2023-4-12</td>\n",
       "      <td>14835</td>\n",
       "    </tr>\n",
       "    <tr>\n",
       "      <th>1</th>\n",
       "      <td>2023-4-11</td>\n",
       "      <td>14915</td>\n",
       "    </tr>\n",
       "    <tr>\n",
       "      <th>2</th>\n",
       "      <td>2023-4-10</td>\n",
       "      <td>14950</td>\n",
       "    </tr>\n",
       "    <tr>\n",
       "      <th>3</th>\n",
       "      <td>2023-4-7</td>\n",
       "      <td>14941</td>\n",
       "    </tr>\n",
       "    <tr>\n",
       "      <th>4</th>\n",
       "      <td>2023-4-6</td>\n",
       "      <td>14931</td>\n",
       "    </tr>\n",
       "  </tbody>\n",
       "</table>\n",
       "</div>"
      ],
      "text/plain": [
       "         tgl  harga\n",
       "0  2023-4-12  14835\n",
       "1  2023-4-11  14915\n",
       "2  2023-4-10  14950\n",
       "3   2023-4-7  14941\n",
       "4   2023-4-6  14931"
      ]
     },
     "execution_count": 8,
     "metadata": {},
     "output_type": "execute_result"
    }
   ],
   "source": [
    "import pandas as pd\n",
    "\n",
    "df = pd.DataFrame(temp, columns=('tgl','harga'))\n",
    "df.head()"
   ]
  },
  {
   "cell_type": "markdown",
   "metadata": {},
   "source": [
    "Menampilkan tipe data dari data frame"
   ]
  },
  {
   "cell_type": "code",
   "execution_count": 9,
   "metadata": {},
   "outputs": [
    {
     "data": {
      "text/plain": [
       "tgl      object\n",
       "harga    object\n",
       "dtype: object"
      ]
     },
     "execution_count": 9,
     "metadata": {},
     "output_type": "execute_result"
    }
   ],
   "source": [
    "df.dtypes"
   ]
  },
  {
   "cell_type": "markdown",
   "metadata": {},
   "source": [
    "Melakukan Data Cleaning\n",
    "atau merapihkan data, membuat data yang dimiliki memiliki penulisan atau tipe data yang tepat"
   ]
  },
  {
   "cell_type": "code",
   "execution_count": 10,
   "metadata": {},
   "outputs": [
    {
     "data": {
      "text/plain": [
       "tgl      datetime64[ns]\n",
       "harga             int32\n",
       "dtype: object"
      ]
     },
     "execution_count": 10,
     "metadata": {},
     "output_type": "execute_result"
    }
   ],
   "source": [
    "df['tgl'] = pd.to_datetime(df['tgl'])\n",
    "df['harga']=df['harga'].astype(int)\n",
    "df[\"tgl\"].dt.to_period('M')\n",
    "df.dtypes"
   ]
  },
  {
   "cell_type": "markdown",
   "metadata": {},
   "source": [
    "Melakukan Visualisasi Data\n",
    "pertama-tama menjadikan kolom tanggal sebagai index data frame\n",
    "kemudian membuat visualisasi dengan plot, karena tgl sudah dijadikan index maka visualisasi yang dibuat adalah pergerakan kurs USD berdasarkan tanggal"
   ]
  },
  {
   "cell_type": "code",
   "execution_count": 11,
   "metadata": {},
   "outputs": [
    {
     "data": {
      "text/plain": [
       "<AxesSubplot:xlabel='tgl'>"
      ]
     },
     "execution_count": 11,
     "metadata": {},
     "output_type": "execute_result"
    },
    {
     "data": {
      "image/png": "[encoded data removed]",
      "text/plain": [
       "<Figure size 640x480 with 1 Axes>"
      ]
     },
     "metadata": {},
     "output_type": "display_data"
    }
   ],
   "source": [
    "df = df.set_index('tgl')\n",
    "df.plot()"
   ]
  },
  {
   "cell_type": "markdown",
   "metadata": {},
   "source": [
    "### Implementing your webscrapping to the flask dashboard\n",
    "\n",
    "- Copy paste all of your web scrapping process to the desired position on the `app.py`\n",
    "- Changing the title of the dasboard at `index.html`"
   ]
  },
  {
   "cell_type": "markdown",
   "metadata": {},
   "source": [
    "## Finishing This Notebook with Your Analysis and Conclusion\n",
    "\n",
    "First you can do start with making the data visualisation. "
   ]
  },
  {
   "cell_type": "code",
   "execution_count": 12,
   "metadata": {
    "ExecuteTime": {
     "end_time": "2020-01-13T05:20:56.208237Z",
     "start_time": "2020-01-13T05:20:56.076043Z"
    }
   },
   "outputs": [
    {
     "data": {
      "text/plain": [
       "<AxesSubplot:xlabel='tgl'>"
      ]
     },
     "execution_count": 12,
     "metadata": {},
     "output_type": "execute_result"
    },
    {
     "data": {
      "image/png": "[encoded data removed]",
      "text/plain": [
       "<Figure size 640x480 with 1 Axes>"
      ]
     },
     "metadata": {},
     "output_type": "display_data"
    }
   ],
   "source": [
    "df.plot()\n"
   ]
  },
  {
   "cell_type": "markdown",
   "metadata": {},
   "source": [
    "dari hasil web scrapping dan analisa dapat disimpulkan bahwa kurs USD terhadap IDR mengalami fluktuasi yang signifikan, di bulan oktober 2022 terdapat kenaikan dan di awal tahun 2023 mengalami penurunan yg cukup besar. Meskipun terdapat fluktuasi harian yang signifikan, tren jangka panjang dari kurs USD cenderung mengalami penurunan dalam jangka waktu yang panjang. "
   ]
  },
  {
   "cell_type": "markdown",
   "metadata": {},
   "source": [
    "### Implement it at the webapps\n",
    "\n",
    "- You can create additional analysis from the data.\n",
    "- Implement it to the dashboard with at `app.py` dan `index.html`."
   ]
  }
 ],
 "metadata": {
  "kernelspec": {
   "display_name": "Python 3 (ipykernel)",
   "language": "python",
   "name": "python3"
  },
  "language_info": {
   "codemirror_mode": {
    "name": "ipython",
    "version": 3
   },
   "file_extension": ".py",
   "mimetype": "text/x-python",
   "name": "python",
   "nbconvert_exporter": "python",
   "pygments_lexer": "ipython3",
   "version": "3.9.13"
  }
 },
 "nbformat": 4,
 "nbformat_minor": 2
}
